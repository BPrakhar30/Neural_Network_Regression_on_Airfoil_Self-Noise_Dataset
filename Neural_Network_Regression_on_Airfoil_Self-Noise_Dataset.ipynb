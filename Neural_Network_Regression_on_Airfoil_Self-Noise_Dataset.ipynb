{
 "cells": [
  {
   "cell_type": "markdown",
   "id": "d71b67ce",
   "metadata": {},
   "source": [
    "# Welcome to HW2\n",
    "\n",
    "In this assignment you will be implementing a neural network in order to perform regression on the Airfoil Self-Noise data set. Remember to restart and run all cells before submission. Points will be deducted if you do not do this. When you are ready to submit, you can convert your notebook to a PDF file by printing the page either with `ctrl + p` or `command + p` and then saving as p1.pdf."
   ]
  },
  {
   "cell_type": "markdown",
   "id": "b078d440",
   "metadata": {},
   "source": [
    "## The imports and helper functions should not be modified in any way."
   ]
  },
  {
   "cell_type": "code",
   "execution_count": null,
   "id": "39ca4710",
   "metadata": {},
   "outputs": [],
   "source": [
    "import torch\n",
    "from torch import nn\n",
    "from torch.utils.data import DataLoader\n",
    "import numpy as np\n",
    "from tqdm import tqdm\n",
    "from matplotlib import pyplot as plt"
   ]
  },
  {
   "cell_type": "code",
   "execution_count": null,
   "id": "f4e991b3",
   "metadata": {},
   "outputs": [],
   "source": [
    "def evaluate(model, test_data):\n",
    "    '''\n",
    "        Do not modify this code.\n",
    "    '''\n",
    "    test_loader = DataLoader(Dataset(test_data), batch_size=1)\n",
    "    loss_fn = torch.nn.MSELoss()\n",
    "    with torch.no_grad():\n",
    "        total_loss = 0\n",
    "        for x, y in test_loader:\n",
    "            pred = model(x)\n",
    "            total_loss += loss_fn(pred, y).item()\n",
    "    print(\"TOTAL EVALUATION LOSS: {0:.5f}\".format(total_loss))"
   ]
  },
  {
   "cell_type": "code",
   "execution_count": null,
   "id": "99e84b54",
   "metadata": {},
   "outputs": [],
   "source": [
    "def plot_training_curves(train_loss, val_loss, loss_fn_name, reduction):\n",
    "    '''\n",
    "        Do not modify this code.\n",
    "    '''\n",
    "    fig, ax = plt.subplots(figsize=(8,6))\n",
    "    ax.plot(train_loss, label=\"Train Loss\")\n",
    "    ax.plot(val_loss, label=\"Validation Loss\")\n",
    "    ax.legend(loc='best')\n",
    "    ax.set_title(\"Loss During Training\", fontsize=16)\n",
    "    ax.set_xlabel(\"Epochs\", fontsize=14)\n",
    "    ax.set_ylabel(\"Loss: {}(reduction={})\".format(loss_fn_name, reduction), fontsize=14)\n",
    "    plt.savefig(\"./example_loss.pdf\")\n",
    "    plt.show()"
   ]
  },
  {
   "cell_type": "markdown",
   "id": "ae7fa49e",
   "metadata": {},
   "source": [
    "## a) Implement your dataset object.\n",
    "\n",
    "Do not modify the function definitions. Please note that the first five columns of the airfoil data are features and the last column is the target. Your dataset should have one attribute for the features, one attribute for the targets, and should return the specified features and target in `__getitem__()` as separate values."
   ]
  },
  {
   "cell_type": "code",
   "execution_count": null,
   "id": "59749439",
   "metadata": {},
   "outputs": [],
   "source": [
    "class Dataset(torch.utils.data.Dataset):\n",
    "    \"\"\"Create your dataset here.\"\"\"\n",
    "\n",
    "    def __init__(self, airfoil_data):\n",
    "        \"\"\"\n",
    "            Initialize your Dataset object with features and labels\n",
    "        \"\"\"\n",
    "        ### Define your features and labels here\n",
    "\n",
    "    def __len__(self):\n",
    "        ### Define the length of your data set\n",
    "\n",
    "    def __getitem__(self, idx):\n",
    "        ### Return the features and labels of your data for a given index"
   ]
  },
  {
   "cell_type": "markdown",
   "id": "601ab911",
   "metadata": {},
   "source": [
    "## b) Implement the model architecture and `forward` function.\n",
    "\n",
    "Do not modify the function definitions. You will need to define input, hidden, and output layers, as well as the activation function."
   ]
  },
  {
   "cell_type": "code",
   "execution_count": null,
   "id": "0479005d",
   "metadata": {},
   "outputs": [],
   "source": [
    "class NeuralNetwork(nn.Module):\n",
    "    def __init__(self, input_dimension=5, output_dimension=1, hidden=32, activation=nn.ReLU()):\n",
    "        super(NeuralNetwork, self).__init__()\n",
    "        '''\n",
    "            Implement your neural network here. You will need to add layers and an activation function.\n",
    "        '''\n",
    "        ### Define your input, hidden and output layers here\n",
    "        \n",
    "        ### Set your activation function here\n",
    "        \n",
    "\n",
    "    def forward(self, x):\n",
    "        '''\n",
    "            Implement the forward function using the layers and activation function you defined above.\n",
    "        '''\n",
    "        ### Call your hidden layers and activation function to do the forward pass through your network."
   ]
  },
  {
   "cell_type": "markdown",
   "id": "578f9c68",
   "metadata": {},
   "source": [
    "## c, d) Define hyperparameters and implement the training loop.\n",
    "\n",
    "You will need to choose your loss function, number of epochs, optimizer learning rate, optimizer weight decay, and batch size for part (c). You will need to set up the DataLoader, implement the forward pass, and implement the backpropagation update."
   ]
  },
  {
   "cell_type": "code",
   "execution_count": null,
   "id": "45bac6f7",
   "metadata": {},
   "outputs": [],
   "source": [
    "def train(model, train_data, validation_data):\n",
    "\n",
    "    ###\n",
    "    #  Modify these parameters\n",
    "    ###\n",
    "    loss_fn = ...\n",
    "    epochs = ...\n",
    "    learning_rate = ...\n",
    "    weight_decay = ...\n",
    "    batch_size = ...\n",
    "\n",
    "    # Set up data\n",
    "    train_loader = ...\n",
    "    validation_loader = ...\n",
    "\n",
    "    # The Adam optimizer is recommended for this assignment.\n",
    "    optimizer = torch.optim.Adam(model.parameters(), lr=learning_rate, weight_decay=weight_decay)\n",
    "\n",
    "    train_losses, val_losses = [], []\n",
    "    for ep in tqdm(range(epochs)):\n",
    "        train_loss = 0\n",
    "        for x, y in train_loader:\n",
    "\n",
    "            # Make prediction with your model\n",
    "            pred = ...\n",
    "\n",
    "            # Calculate loss\n",
    "            loss = ...\n",
    "            \n",
    "\n",
    "            # Backpropagate loss through the network and update parameters\n",
    "            ...\n",
    "\n",
    "        val_loss = 0\n",
    "        with torch.no_grad():\n",
    "            for x, y in validation_loader:\n",
    "\n",
    "                # Make prediction with model.forward()\n",
    "                pred = ...\n",
    "\n",
    "                # Calculate loss\n",
    "                loss = ...\n",
    "\n",
    "        # Feel free to modify how frequently training progress is printed\n",
    "        if(ep%100 == 0):\n",
    "            print(\"Train Loss: {0:.4f}\\tValidation Loss: {1:.4f}\".format(train_loss, val_loss))\n",
    "\n",
    "        # Hold on to losses for easy saving and plotting\n",
    "    \n",
    "    # Save your losses as .npy files\n",
    "    np.save(\"./train_losses.npy\", train_losses)\n",
    "    np.save(\"./val_losses.npy\", val_losses)\n",
    "\n",
    "    # Save the model as ./p1_model.pt\n",
    "    torch.save(model.state_dict(), \"./p1_model.pt\")\n",
    "    return model"
   ]
  },
  {
   "cell_type": "markdown",
   "id": "03442346",
   "metadata": {},
   "source": [
    "## e) Load your data, then train and evaluate your model before plotting the training curves."
   ]
  },
  {
   "cell_type": "code",
   "execution_count": null,
   "id": "25d032de",
   "metadata": {},
   "outputs": [],
   "source": [
    "if __name__ == '__main__':\n",
    "    torch.manual_seed(137)\n",
    "    \n",
    "    # Load in the provided data\n",
    "    train_data = ...\n",
    "    validation_data = ...\n",
    "    test_data = ...\n",
    "\n",
    "    model = ...\n",
    "    \n",
    "    model = train(...)\n",
    "    evaluate(...)\n",
    "\n",
    "    # Load your training data and call the provided plot function. Loss function and reduction scheme are\n",
    "    # required for the plotting function.\n",
    "    plot_training_curves(...)"
   ]
  },
  {
   "cell_type": "markdown",
   "id": "9fda06b7",
   "metadata": {},
   "source": [
    "## f) Run 4 different hyperparameter combinations and explain the differences in results"
   ]
  },
  {
   "cell_type": "code",
   "execution_count": null,
   "id": "e4ec49a0",
   "metadata": {},
   "outputs": [],
   "source": []
  }
 ],
 "metadata": {
  "kernelspec": {
   "display_name": "Python 3 (ipykernel)",
   "language": "python",
   "name": "python3"
  },
  "language_info": {
   "codemirror_mode": {
    "name": "ipython",
    "version": 3
   },
   "file_extension": ".py",
   "mimetype": "text/x-python",
   "name": "python",
   "nbconvert_exporter": "python",
   "pygments_lexer": "ipython3",
   "version": "3.10.4"
  }
 },
 "nbformat": 4,
 "nbformat_minor": 5
}
